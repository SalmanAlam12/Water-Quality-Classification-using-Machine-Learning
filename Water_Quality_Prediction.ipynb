{
  "nbformat": 4,
  "nbformat_minor": 0,
  "metadata": {
    "colab": {
      "provenance": []
    },
    "kernelspec": {
      "name": "python3",
      "display_name": "Python 3"
    },
    "language_info": {
      "name": "python"
    }
  },
  "cells": [
    {
      "cell_type": "markdown",
      "source": [
        "#                     **Water Quality Prediction**\n",
        "\n",
        "\n",
        "\n",
        "\n",
        "---\n",
        "Members:\n",
        "1. Salman Alam (19301037)\n",
        "---\n",
        "Dataset: https://www.kaggle.com/datasets/mssmartypants/water-quality?resource=download"
      ],
      "metadata": {
        "id": "xLg1_kScUe4Q"
      }
    },
    {
      "cell_type": "markdown",
      "source": [
        "# Data Preprocessing"
      ],
      "metadata": {
        "id": "nSVn3XZdUwBw"
      }
    },
    {
      "cell_type": "code",
      "execution_count": null,
      "metadata": {
        "id": "j9-pBtJBPYZo"
      },
      "outputs": [],
      "source": [
        "#importing necessary libraries\n",
        "import pandas as pd\n",
        "import numpy as np\n",
        "import seaborn as sns\n",
        "from matplotlib import pyplot as plt\n",
        "\n",
        "#importing data preprocessing libraries\n",
        "from sklearn.preprocessing import LabelEncoder\n",
        "from sklearn.model_selection import train_test_split\n",
        "from sklearn.preprocessing import StandardScaler\n",
        "from sklearn.preprocessing import MinMaxScaler\n",
        "from imblearn.over_sampling import SMOTE\n",
        "\n",
        "#import models\n",
        "from sklearn.linear_model import LogisticRegression\n",
        "from sklearn.neighbors import KNeighborsClassifier\n",
        "from sklearn.naive_bayes import GaussianNB\n",
        "\n",
        "#importing outcome techniques\n",
        "from sklearn.metrics import confusion_matrix\n",
        "from sklearn.metrics import precision_score, recall_score, f1_score, accuracy_score\n",
        "\n",
        "#Ignore Warnings\n",
        "import warnings\n",
        "warnings.filterwarnings('ignore')"
      ]
    },
    {
      "cell_type": "code",
      "source": [
        "df = pd.read_csv('/content/waterQuality1.csv.xls')\n",
        "df"
      ],
      "metadata": {
        "colab": {
          "base_uri": "https://localhost:8080/",
          "height": 487
        },
        "id": "zYKojANGPxM3",
        "outputId": "9af1f8ec-a4d2-4dd6-ec36-c64900ade52a"
      },
      "execution_count": null,
      "outputs": [
        {
          "output_type": "execute_result",
          "data": {
            "text/plain": [
              "      aluminium ammonia  arsenic  barium  cadmium  chloramine  chromium  \\\n",
              "0          1.65    9.08     0.04    2.85    0.007        0.35      0.83   \n",
              "1          2.32   21.16     0.01    3.31    0.002        5.28      0.68   \n",
              "2          1.01   14.02     0.04    0.58    0.008        4.24      0.53   \n",
              "3          1.36   11.33     0.04    2.96    0.001        7.23      0.03   \n",
              "4          0.92   24.33     0.03    0.20    0.006        2.67      0.69   \n",
              "...         ...     ...      ...     ...      ...         ...       ...   \n",
              "7994       0.05    7.78     0.00    1.95    0.040        0.10      0.03   \n",
              "7995       0.05   24.22     0.02    0.59    0.010        0.45      0.02   \n",
              "7996       0.09    6.85     0.00    0.61    0.030        0.05      0.05   \n",
              "7997       0.01      10     0.01    2.00    0.000        2.00      0.00   \n",
              "7998       0.04    6.85     0.01    0.70    0.030        0.05      0.01   \n",
              "\n",
              "      copper  flouride  bacteria  ...   lead  nitrates  nitrites  mercury  \\\n",
              "0       0.17      0.05      0.20  ...  0.054     16.08      1.13    0.007   \n",
              "1       0.66      0.90      0.65  ...  0.100      2.01      1.93    0.003   \n",
              "2       0.02      0.99      0.05  ...  0.078     14.16      1.11    0.006   \n",
              "3       1.66      1.08      0.71  ...  0.016      1.41      1.29    0.004   \n",
              "4       0.57      0.61      0.13  ...  0.117      6.74      1.11    0.003   \n",
              "...      ...       ...       ...  ...    ...       ...       ...      ...   \n",
              "7994    0.03      1.37      0.00  ...  0.197     14.29      1.00    0.005   \n",
              "7995    0.02      1.48      0.00  ...  0.031     10.27      1.00    0.001   \n",
              "7996    0.02      0.91      0.00  ...  0.182     15.92      1.00    0.000   \n",
              "7997    0.09      0.00      0.00  ...  0.000      0.00      0.00    0.000   \n",
              "7998    0.03      1.00      0.00  ...  0.182     15.92      1.00    0.000   \n",
              "\n",
              "      perchlorate  radium  selenium  silver  uranium  is_safe  \n",
              "0           37.75    6.78      0.08    0.34     0.02        1  \n",
              "1           32.26    3.21      0.08    0.27     0.05        1  \n",
              "2           50.28    7.07      0.07    0.44     0.01        0  \n",
              "3            9.12    1.72      0.02    0.45     0.05        1  \n",
              "4           16.90    2.41      0.02    0.06     0.02        1  \n",
              "...           ...     ...       ...     ...      ...      ...  \n",
              "7994         3.57    2.13      0.09    0.06     0.03        1  \n",
              "7995         1.48    1.11      0.09    0.10     0.08        1  \n",
              "7996         1.35    4.84      0.00    0.04     0.05        1  \n",
              "7997         0.00    0.00      0.00    0.00     0.00        1  \n",
              "7998         1.35    4.84      0.00    0.04     0.05        1  \n",
              "\n",
              "[7999 rows x 21 columns]"
            ],
            "text/html": [
              "\n",
              "  <div id=\"df-ad0e683c-088c-46c8-b379-a2a3733307b6\">\n",
              "    <div class=\"colab-df-container\">\n",
              "      <div>\n",
              "<style scoped>\n",
              "    .dataframe tbody tr th:only-of-type {\n",
              "        vertical-align: middle;\n",
              "    }\n",
              "\n",
              "    .dataframe tbody tr th {\n",
              "        vertical-align: top;\n",
              "    }\n",
              "\n",
              "    .dataframe thead th {\n",
              "        text-align: right;\n",
              "    }\n",
              "</style>\n",
              "<table border=\"1\" class=\"dataframe\">\n",
              "  <thead>\n",
              "    <tr style=\"text-align: right;\">\n",
              "      <th></th>\n",
              "      <th>aluminium</th>\n",
              "      <th>ammonia</th>\n",
              "      <th>arsenic</th>\n",
              "      <th>barium</th>\n",
              "      <th>cadmium</th>\n",
              "      <th>chloramine</th>\n",
              "      <th>chromium</th>\n",
              "      <th>copper</th>\n",
              "      <th>flouride</th>\n",
              "      <th>bacteria</th>\n",
              "      <th>...</th>\n",
              "      <th>lead</th>\n",
              "      <th>nitrates</th>\n",
              "      <th>nitrites</th>\n",
              "      <th>mercury</th>\n",
              "      <th>perchlorate</th>\n",
              "      <th>radium</th>\n",
              "      <th>selenium</th>\n",
              "      <th>silver</th>\n",
              "      <th>uranium</th>\n",
              "      <th>is_safe</th>\n",
              "    </tr>\n",
              "  </thead>\n",
              "  <tbody>\n",
              "    <tr>\n",
              "      <th>0</th>\n",
              "      <td>1.65</td>\n",
              "      <td>9.08</td>\n",
              "      <td>0.04</td>\n",
              "      <td>2.85</td>\n",
              "      <td>0.007</td>\n",
              "      <td>0.35</td>\n",
              "      <td>0.83</td>\n",
              "      <td>0.17</td>\n",
              "      <td>0.05</td>\n",
              "      <td>0.20</td>\n",
              "      <td>...</td>\n",
              "      <td>0.054</td>\n",
              "      <td>16.08</td>\n",
              "      <td>1.13</td>\n",
              "      <td>0.007</td>\n",
              "      <td>37.75</td>\n",
              "      <td>6.78</td>\n",
              "      <td>0.08</td>\n",
              "      <td>0.34</td>\n",
              "      <td>0.02</td>\n",
              "      <td>1</td>\n",
              "    </tr>\n",
              "    <tr>\n",
              "      <th>1</th>\n",
              "      <td>2.32</td>\n",
              "      <td>21.16</td>\n",
              "      <td>0.01</td>\n",
              "      <td>3.31</td>\n",
              "      <td>0.002</td>\n",
              "      <td>5.28</td>\n",
              "      <td>0.68</td>\n",
              "      <td>0.66</td>\n",
              "      <td>0.90</td>\n",
              "      <td>0.65</td>\n",
              "      <td>...</td>\n",
              "      <td>0.100</td>\n",
              "      <td>2.01</td>\n",
              "      <td>1.93</td>\n",
              "      <td>0.003</td>\n",
              "      <td>32.26</td>\n",
              "      <td>3.21</td>\n",
              "      <td>0.08</td>\n",
              "      <td>0.27</td>\n",
              "      <td>0.05</td>\n",
              "      <td>1</td>\n",
              "    </tr>\n",
              "    <tr>\n",
              "      <th>2</th>\n",
              "      <td>1.01</td>\n",
              "      <td>14.02</td>\n",
              "      <td>0.04</td>\n",
              "      <td>0.58</td>\n",
              "      <td>0.008</td>\n",
              "      <td>4.24</td>\n",
              "      <td>0.53</td>\n",
              "      <td>0.02</td>\n",
              "      <td>0.99</td>\n",
              "      <td>0.05</td>\n",
              "      <td>...</td>\n",
              "      <td>0.078</td>\n",
              "      <td>14.16</td>\n",
              "      <td>1.11</td>\n",
              "      <td>0.006</td>\n",
              "      <td>50.28</td>\n",
              "      <td>7.07</td>\n",
              "      <td>0.07</td>\n",
              "      <td>0.44</td>\n",
              "      <td>0.01</td>\n",
              "      <td>0</td>\n",
              "    </tr>\n",
              "    <tr>\n",
              "      <th>3</th>\n",
              "      <td>1.36</td>\n",
              "      <td>11.33</td>\n",
              "      <td>0.04</td>\n",
              "      <td>2.96</td>\n",
              "      <td>0.001</td>\n",
              "      <td>7.23</td>\n",
              "      <td>0.03</td>\n",
              "      <td>1.66</td>\n",
              "      <td>1.08</td>\n",
              "      <td>0.71</td>\n",
              "      <td>...</td>\n",
              "      <td>0.016</td>\n",
              "      <td>1.41</td>\n",
              "      <td>1.29</td>\n",
              "      <td>0.004</td>\n",
              "      <td>9.12</td>\n",
              "      <td>1.72</td>\n",
              "      <td>0.02</td>\n",
              "      <td>0.45</td>\n",
              "      <td>0.05</td>\n",
              "      <td>1</td>\n",
              "    </tr>\n",
              "    <tr>\n",
              "      <th>4</th>\n",
              "      <td>0.92</td>\n",
              "      <td>24.33</td>\n",
              "      <td>0.03</td>\n",
              "      <td>0.20</td>\n",
              "      <td>0.006</td>\n",
              "      <td>2.67</td>\n",
              "      <td>0.69</td>\n",
              "      <td>0.57</td>\n",
              "      <td>0.61</td>\n",
              "      <td>0.13</td>\n",
              "      <td>...</td>\n",
              "      <td>0.117</td>\n",
              "      <td>6.74</td>\n",
              "      <td>1.11</td>\n",
              "      <td>0.003</td>\n",
              "      <td>16.90</td>\n",
              "      <td>2.41</td>\n",
              "      <td>0.02</td>\n",
              "      <td>0.06</td>\n",
              "      <td>0.02</td>\n",
              "      <td>1</td>\n",
              "    </tr>\n",
              "    <tr>\n",
              "      <th>...</th>\n",
              "      <td>...</td>\n",
              "      <td>...</td>\n",
              "      <td>...</td>\n",
              "      <td>...</td>\n",
              "      <td>...</td>\n",
              "      <td>...</td>\n",
              "      <td>...</td>\n",
              "      <td>...</td>\n",
              "      <td>...</td>\n",
              "      <td>...</td>\n",
              "      <td>...</td>\n",
              "      <td>...</td>\n",
              "      <td>...</td>\n",
              "      <td>...</td>\n",
              "      <td>...</td>\n",
              "      <td>...</td>\n",
              "      <td>...</td>\n",
              "      <td>...</td>\n",
              "      <td>...</td>\n",
              "      <td>...</td>\n",
              "      <td>...</td>\n",
              "    </tr>\n",
              "    <tr>\n",
              "      <th>7994</th>\n",
              "      <td>0.05</td>\n",
              "      <td>7.78</td>\n",
              "      <td>0.00</td>\n",
              "      <td>1.95</td>\n",
              "      <td>0.040</td>\n",
              "      <td>0.10</td>\n",
              "      <td>0.03</td>\n",
              "      <td>0.03</td>\n",
              "      <td>1.37</td>\n",
              "      <td>0.00</td>\n",
              "      <td>...</td>\n",
              "      <td>0.197</td>\n",
              "      <td>14.29</td>\n",
              "      <td>1.00</td>\n",
              "      <td>0.005</td>\n",
              "      <td>3.57</td>\n",
              "      <td>2.13</td>\n",
              "      <td>0.09</td>\n",
              "      <td>0.06</td>\n",
              "      <td>0.03</td>\n",
              "      <td>1</td>\n",
              "    </tr>\n",
              "    <tr>\n",
              "      <th>7995</th>\n",
              "      <td>0.05</td>\n",
              "      <td>24.22</td>\n",
              "      <td>0.02</td>\n",
              "      <td>0.59</td>\n",
              "      <td>0.010</td>\n",
              "      <td>0.45</td>\n",
              "      <td>0.02</td>\n",
              "      <td>0.02</td>\n",
              "      <td>1.48</td>\n",
              "      <td>0.00</td>\n",
              "      <td>...</td>\n",
              "      <td>0.031</td>\n",
              "      <td>10.27</td>\n",
              "      <td>1.00</td>\n",
              "      <td>0.001</td>\n",
              "      <td>1.48</td>\n",
              "      <td>1.11</td>\n",
              "      <td>0.09</td>\n",
              "      <td>0.10</td>\n",
              "      <td>0.08</td>\n",
              "      <td>1</td>\n",
              "    </tr>\n",
              "    <tr>\n",
              "      <th>7996</th>\n",
              "      <td>0.09</td>\n",
              "      <td>6.85</td>\n",
              "      <td>0.00</td>\n",
              "      <td>0.61</td>\n",
              "      <td>0.030</td>\n",
              "      <td>0.05</td>\n",
              "      <td>0.05</td>\n",
              "      <td>0.02</td>\n",
              "      <td>0.91</td>\n",
              "      <td>0.00</td>\n",
              "      <td>...</td>\n",
              "      <td>0.182</td>\n",
              "      <td>15.92</td>\n",
              "      <td>1.00</td>\n",
              "      <td>0.000</td>\n",
              "      <td>1.35</td>\n",
              "      <td>4.84</td>\n",
              "      <td>0.00</td>\n",
              "      <td>0.04</td>\n",
              "      <td>0.05</td>\n",
              "      <td>1</td>\n",
              "    </tr>\n",
              "    <tr>\n",
              "      <th>7997</th>\n",
              "      <td>0.01</td>\n",
              "      <td>10</td>\n",
              "      <td>0.01</td>\n",
              "      <td>2.00</td>\n",
              "      <td>0.000</td>\n",
              "      <td>2.00</td>\n",
              "      <td>0.00</td>\n",
              "      <td>0.09</td>\n",
              "      <td>0.00</td>\n",
              "      <td>0.00</td>\n",
              "      <td>...</td>\n",
              "      <td>0.000</td>\n",
              "      <td>0.00</td>\n",
              "      <td>0.00</td>\n",
              "      <td>0.000</td>\n",
              "      <td>0.00</td>\n",
              "      <td>0.00</td>\n",
              "      <td>0.00</td>\n",
              "      <td>0.00</td>\n",
              "      <td>0.00</td>\n",
              "      <td>1</td>\n",
              "    </tr>\n",
              "    <tr>\n",
              "      <th>7998</th>\n",
              "      <td>0.04</td>\n",
              "      <td>6.85</td>\n",
              "      <td>0.01</td>\n",
              "      <td>0.70</td>\n",
              "      <td>0.030</td>\n",
              "      <td>0.05</td>\n",
              "      <td>0.01</td>\n",
              "      <td>0.03</td>\n",
              "      <td>1.00</td>\n",
              "      <td>0.00</td>\n",
              "      <td>...</td>\n",
              "      <td>0.182</td>\n",
              "      <td>15.92</td>\n",
              "      <td>1.00</td>\n",
              "      <td>0.000</td>\n",
              "      <td>1.35</td>\n",
              "      <td>4.84</td>\n",
              "      <td>0.00</td>\n",
              "      <td>0.04</td>\n",
              "      <td>0.05</td>\n",
              "      <td>1</td>\n",
              "    </tr>\n",
              "  </tbody>\n",
              "</table>\n",
              "<p>7999 rows × 21 columns</p>\n",
              "</div>\n",
              "      <button class=\"colab-df-convert\" onclick=\"convertToInteractive('df-ad0e683c-088c-46c8-b379-a2a3733307b6')\"\n",
              "              title=\"Convert this dataframe to an interactive table.\"\n",
              "              style=\"display:none;\">\n",
              "        \n",
              "  <svg xmlns=\"http://www.w3.org/2000/svg\" height=\"24px\"viewBox=\"0 0 24 24\"\n",
              "       width=\"24px\">\n",
              "    <path d=\"M0 0h24v24H0V0z\" fill=\"none\"/>\n",
              "    <path d=\"M18.56 5.44l.94 2.06.94-2.06 2.06-.94-2.06-.94-.94-2.06-.94 2.06-2.06.94zm-11 1L8.5 8.5l.94-2.06 2.06-.94-2.06-.94L8.5 2.5l-.94 2.06-2.06.94zm10 10l.94 2.06.94-2.06 2.06-.94-2.06-.94-.94-2.06-.94 2.06-2.06.94z\"/><path d=\"M17.41 7.96l-1.37-1.37c-.4-.4-.92-.59-1.43-.59-.52 0-1.04.2-1.43.59L10.3 9.45l-7.72 7.72c-.78.78-.78 2.05 0 2.83L4 21.41c.39.39.9.59 1.41.59.51 0 1.02-.2 1.41-.59l7.78-7.78 2.81-2.81c.8-.78.8-2.07 0-2.86zM5.41 20L4 18.59l7.72-7.72 1.47 1.35L5.41 20z\"/>\n",
              "  </svg>\n",
              "      </button>\n",
              "      \n",
              "  <style>\n",
              "    .colab-df-container {\n",
              "      display:flex;\n",
              "      flex-wrap:wrap;\n",
              "      gap: 12px;\n",
              "    }\n",
              "\n",
              "    .colab-df-convert {\n",
              "      background-color: #E8F0FE;\n",
              "      border: none;\n",
              "      border-radius: 50%;\n",
              "      cursor: pointer;\n",
              "      display: none;\n",
              "      fill: #1967D2;\n",
              "      height: 32px;\n",
              "      padding: 0 0 0 0;\n",
              "      width: 32px;\n",
              "    }\n",
              "\n",
              "    .colab-df-convert:hover {\n",
              "      background-color: #E2EBFA;\n",
              "      box-shadow: 0px 1px 2px rgba(60, 64, 67, 0.3), 0px 1px 3px 1px rgba(60, 64, 67, 0.15);\n",
              "      fill: #174EA6;\n",
              "    }\n",
              "\n",
              "    [theme=dark] .colab-df-convert {\n",
              "      background-color: #3B4455;\n",
              "      fill: #D2E3FC;\n",
              "    }\n",
              "\n",
              "    [theme=dark] .colab-df-convert:hover {\n",
              "      background-color: #434B5C;\n",
              "      box-shadow: 0px 1px 3px 1px rgba(0, 0, 0, 0.15);\n",
              "      filter: drop-shadow(0px 1px 2px rgba(0, 0, 0, 0.3));\n",
              "      fill: #FFFFFF;\n",
              "    }\n",
              "  </style>\n",
              "\n",
              "      <script>\n",
              "        const buttonEl =\n",
              "          document.querySelector('#df-ad0e683c-088c-46c8-b379-a2a3733307b6 button.colab-df-convert');\n",
              "        buttonEl.style.display =\n",
              "          google.colab.kernel.accessAllowed ? 'block' : 'none';\n",
              "\n",
              "        async function convertToInteractive(key) {\n",
              "          const element = document.querySelector('#df-ad0e683c-088c-46c8-b379-a2a3733307b6');\n",
              "          const dataTable =\n",
              "            await google.colab.kernel.invokeFunction('convertToInteractive',\n",
              "                                                     [key], {});\n",
              "          if (!dataTable) return;\n",
              "\n",
              "          const docLinkHtml = 'Like what you see? Visit the ' +\n",
              "            '<a target=\"_blank\" href=https://colab.research.google.com/notebooks/data_table.ipynb>data table notebook</a>'\n",
              "            + ' to learn more about interactive tables.';\n",
              "          element.innerHTML = '';\n",
              "          dataTable['output_type'] = 'display_data';\n",
              "          await google.colab.output.renderOutput(dataTable, element);\n",
              "          const docLink = document.createElement('div');\n",
              "          docLink.innerHTML = docLinkHtml;\n",
              "          element.appendChild(docLink);\n",
              "        }\n",
              "      </script>\n",
              "    </div>\n",
              "  </div>\n",
              "  "
            ]
          },
          "metadata": {},
          "execution_count": 2
        }
      ]
    },
    {
      "cell_type": "code",
      "source": [
        "df.isnull().sum()"
      ],
      "metadata": {
        "colab": {
          "base_uri": "https://localhost:8080/"
        },
        "id": "mvj4Z50mQDYt",
        "outputId": "4e046ee3-a764-4a8b-ad27-b38b8a565beb"
      },
      "execution_count": null,
      "outputs": [
        {
          "output_type": "execute_result",
          "data": {
            "text/plain": [
              "aluminium      0\n",
              "ammonia        0\n",
              "arsenic        0\n",
              "barium         0\n",
              "cadmium        0\n",
              "chloramine     0\n",
              "chromium       0\n",
              "copper         0\n",
              "flouride       0\n",
              "bacteria       0\n",
              "viruses        0\n",
              "lead           0\n",
              "nitrates       0\n",
              "nitrites       0\n",
              "mercury        0\n",
              "perchlorate    0\n",
              "radium         0\n",
              "selenium       0\n",
              "silver         0\n",
              "uranium        0\n",
              "is_safe        0\n",
              "dtype: int64"
            ]
          },
          "metadata": {},
          "execution_count": 3
        }
      ]
    },
    {
      "cell_type": "code",
      "source": [
        "df['is_safe'].unique()"
      ],
      "metadata": {
        "colab": {
          "base_uri": "https://localhost:8080/"
        },
        "id": "HKb5D6o8QgAV",
        "outputId": "d6b2898b-579e-4b82-d3fe-fbe465c705f1"
      },
      "execution_count": null,
      "outputs": [
        {
          "output_type": "execute_result",
          "data": {
            "text/plain": [
              "array(['1', '0', '#NUM!'], dtype=object)"
            ]
          },
          "metadata": {},
          "execution_count": 4
        }
      ]
    },
    {
      "cell_type": "code",
      "source": [
        "df['is_safe'].value_counts()"
      ],
      "metadata": {
        "colab": {
          "base_uri": "https://localhost:8080/"
        },
        "id": "aw72O-xZQ-4W",
        "outputId": "ef8e58a8-f2b3-486a-d759-2cfa4d62ece2"
      },
      "execution_count": null,
      "outputs": [
        {
          "output_type": "execute_result",
          "data": {
            "text/plain": [
              "0        7084\n",
              "1         912\n",
              "#NUM!       3\n",
              "Name: is_safe, dtype: int64"
            ]
          },
          "metadata": {},
          "execution_count": 5
        }
      ]
    },
    {
      "cell_type": "code",
      "source": [
        "indexAge = df[ (df['is_safe'] == '#NUM!')].index\n",
        "df.drop(indexAge , inplace=True)"
      ],
      "metadata": {
        "id": "DiZ8WKibRSx9"
      },
      "execution_count": null,
      "outputs": []
    },
    {
      "cell_type": "code",
      "source": [
        "df['is_safe'].value_counts()"
      ],
      "metadata": {
        "colab": {
          "base_uri": "https://localhost:8080/"
        },
        "id": "0pXNehIhRcbf",
        "outputId": "7c23c0d3-913f-4c39-a259-486756dbc955"
      },
      "execution_count": null,
      "outputs": [
        {
          "output_type": "execute_result",
          "data": {
            "text/plain": [
              "0    7084\n",
              "1     912\n",
              "Name: is_safe, dtype: int64"
            ]
          },
          "metadata": {},
          "execution_count": 7
        }
      ]
    },
    {
      "cell_type": "code",
      "source": [
        "sns.countplot(x='is_safe',data=asteriod)\n",
        "plt.show()"
      ],
      "metadata": {
        "colab": {
          "base_uri": "https://localhost:8080/",
          "height": 280
        },
        "id": "p0YUjgQFQLQN",
        "outputId": "07b244be-014b-429a-e6a7-e5d4fb86eed7"
      },
      "execution_count": null,
      "outputs": [
        {
          "output_type": "display_data",
          "data": {
            "text/plain": [
              "<Figure size 432x288 with 1 Axes>"
            ],
            "image/png": "[encoded data removed]"
          },
          "metadata": {
            "needs_background": "light"
          }
        }
      ]
    },
    {
      "cell_type": "code",
      "source": [
        "df.info()"
      ],
      "metadata": {
        "colab": {
          "base_uri": "https://localhost:8080/"
        },
        "id": "WEcNVKD4Ron-",
        "outputId": "ee396e59-9be0-476a-db1e-91c27a9f04c6"
      },
      "execution_count": null,
      "outputs": [
        {
          "output_type": "stream",
          "name": "stdout",
          "text": [
            "<class 'pandas.core.frame.DataFrame'>\n",
            "Int64Index: 7996 entries, 0 to 7998\n",
            "Data columns (total 21 columns):\n",
            " #   Column       Non-Null Count  Dtype  \n",
            "---  ------       --------------  -----  \n",
            " 0   aluminium    7996 non-null   float64\n",
            " 1   ammonia      7996 non-null   object \n",
            " 2   arsenic      7996 non-null   float64\n",
            " 3   barium       7996 non-null   float64\n",
            " 4   cadmium      7996 non-null   float64\n",
            " 5   chloramine   7996 non-null   float64\n",
            " 6   chromium     7996 non-null   float64\n",
            " 7   copper       7996 non-null   float64\n",
            " 8   flouride     7996 non-null   float64\n",
            " 9   bacteria     7996 non-null   float64\n",
            " 10  viruses      7996 non-null   float64\n",
            " 11  lead         7996 non-null   float64\n",
            " 12  nitrates     7996 non-null   float64\n",
            " 13  nitrites     7996 non-null   float64\n",
            " 14  mercury      7996 non-null   float64\n",
            " 15  perchlorate  7996 non-null   float64\n",
            " 16  radium       7996 non-null   float64\n",
            " 17  selenium     7996 non-null   float64\n",
            " 18  silver       7996 non-null   float64\n",
            " 19  uranium      7996 non-null   float64\n",
            " 20  is_safe      7996 non-null   object \n",
            "dtypes: float64(19), object(2)\n",
            "memory usage: 1.6+ MB\n"
          ]
        }
      ]
    },
    {
      "cell_type": "code",
      "source": [
        "df['is_safe'] = df['is_safe'].astype(int)\n",
        "df['ammonia'] = df['ammonia'].astype(float)"
      ],
      "metadata": {
        "id": "4xFIppT9SF42"
      },
      "execution_count": null,
      "outputs": []
    },
    {
      "cell_type": "code",
      "source": [
        "df.info()"
      ],
      "metadata": {
        "colab": {
          "base_uri": "https://localhost:8080/"
        },
        "id": "NvcyBfTfSV7N",
        "outputId": "1b7ad4b9-bccb-4ed2-8e8d-efcf8cd395f9"
      },
      "execution_count": null,
      "outputs": [
        {
          "output_type": "stream",
          "name": "stdout",
          "text": [
            "<class 'pandas.core.frame.DataFrame'>\n",
            "Int64Index: 7996 entries, 0 to 7998\n",
            "Data columns (total 21 columns):\n",
            " #   Column       Non-Null Count  Dtype  \n",
            "---  ------       --------------  -----  \n",
            " 0   aluminium    7996 non-null   float64\n",
            " 1   ammonia      7996 non-null   float64\n",
            " 2   arsenic      7996 non-null   float64\n",
            " 3   barium       7996 non-null   float64\n",
            " 4   cadmium      7996 non-null   float64\n",
            " 5   chloramine   7996 non-null   float64\n",
            " 6   chromium     7996 non-null   float64\n",
            " 7   copper       7996 non-null   float64\n",
            " 8   flouride     7996 non-null   float64\n",
            " 9   bacteria     7996 non-null   float64\n",
            " 10  viruses      7996 non-null   float64\n",
            " 11  lead         7996 non-null   float64\n",
            " 12  nitrates     7996 non-null   float64\n",
            " 13  nitrites     7996 non-null   float64\n",
            " 14  mercury      7996 non-null   float64\n",
            " 15  perchlorate  7996 non-null   float64\n",
            " 16  radium       7996 non-null   float64\n",
            " 17  selenium     7996 non-null   float64\n",
            " 18  silver       7996 non-null   float64\n",
            " 19  uranium      7996 non-null   float64\n",
            " 20  is_safe      7996 non-null   int64  \n",
            "dtypes: float64(20), int64(1)\n",
            "memory usage: 1.6 MB\n"
          ]
        }
      ]
    },
    {
      "cell_type": "code",
      "source": [
        "df.columns"
      ],
      "metadata": {
        "colab": {
          "base_uri": "https://localhost:8080/"
        },
        "id": "FEbJ9EGGSgal",
        "outputId": "a70ae5fc-041f-4d2c-9409-1b396b2efb6c"
      },
      "execution_count": null,
      "outputs": [
        {
          "output_type": "execute_result",
          "data": {
            "text/plain": [
              "Index(['aluminium', 'ammonia', 'arsenic', 'barium', 'cadmium', 'chloramine',\n",
              "       'chromium', 'copper', 'flouride', 'bacteria', 'viruses', 'lead',\n",
              "       'nitrates', 'nitrites', 'mercury', 'perchlorate', 'radium', 'selenium',\n",
              "       'silver', 'uranium', 'is_safe'],\n",
              "      dtype='object')"
            ]
          },
          "metadata": {},
          "execution_count": 54
        }
      ]
    },
    {
      "cell_type": "code",
      "source": [
        "# Feature Selection\n",
        "features = ['aluminium', 'ammonia', 'arsenic', 'barium', 'cadmium', 'chloramine',\n",
        "       'chromium', 'copper', 'flouride', 'bacteria', 'viruses', 'lead',\n",
        "       'nitrates', 'nitrites', 'mercury', 'perchlorate', 'radium', 'selenium',\n",
        "       'silver', 'uranium', ]\n",
        "label = ['is_safe']"
      ],
      "metadata": {
        "id": "34bbyQGlShEl"
      },
      "execution_count": null,
      "outputs": []
    },
    {
      "cell_type": "code",
      "source": [
        "x_upsampled = df.loc[:, features]\n",
        "y_upsampled = df.loc[:, label]\n",
        "\n",
        "oversample = SMOTE()\n",
        "x_upsampled, y_upsampled = oversample.fit_resample(x_upsampled, y_upsampled)\n",
        "\n",
        "X_train_upsampled,X_test_upsampled,Y_train_upsampled,Y_test_upsampled = train_test_split(x_upsampled,y_upsampled,\n",
        "                                                                                         random_state=0,train_size=0.75, stratify = y_upsampled)\n",
        "\n",
        "print(X_train_upsampled.shape)\n",
        "print(X_test_upsampled.shape)"
      ],
      "metadata": {
        "colab": {
          "base_uri": "https://localhost:8080/"
        },
        "id": "jFOi0e2WSuMm",
        "outputId": "7f66a47e-db19-4348-8606-51d7a17a29c7"
      },
      "execution_count": null,
      "outputs": [
        {
          "output_type": "stream",
          "name": "stdout",
          "text": [
            "(10626, 20)\n",
            "(3542, 20)\n"
          ]
        }
      ]
    },
    {
      "cell_type": "code",
      "source": [
        "sns.countplot(x='is_safe',data=Y_train_upsampled)\n",
        "plt.show()"
      ],
      "metadata": {
        "colab": {
          "base_uri": "https://localhost:8080/",
          "height": 280
        },
        "id": "dHVpPWwiS6t-",
        "outputId": "ea26819f-dd3e-4436-de43-bdda9d377d48"
      },
      "execution_count": null,
      "outputs": [
        {
          "output_type": "display_data",
          "data": {
            "text/plain": [
              "<Figure size 432x288 with 1 Axes>"
            ],
            "image/png": "[encoded data removed]"
          },
          "metadata": {
            "needs_background": "light"
          }
        }
      ]
    },
    {
      "cell_type": "code",
      "source": [
        "scaler = MinMaxScaler()\n",
        "train_scaled_upsampled = pd.DataFrame(scaler.fit_transform(X_train_upsampled)) # Scaling the train set\n",
        "test_scaled_upsampled = pd.DataFrame(scaler.transform(X_test_upsampled)) # Scaling the test set\n",
        "\n",
        "print(X_train_upsampled)"
      ],
      "metadata": {
        "colab": {
          "base_uri": "https://localhost:8080/"
        },
        "id": "vLku07_UTEKm",
        "outputId": "8e6971ea-7aca-4590-deb0-cd46ad54b53a"
      },
      "execution_count": null,
      "outputs": [
        {
          "output_type": "stream",
          "name": "stdout",
          "text": [
            "       aluminium    ammonia   arsenic    barium   cadmium  chloramine  \\\n",
            "12380   0.047441   0.874635  0.042794  0.264914  0.045353    0.010236   \n",
            "5454    0.060000  18.580000  0.070000  1.430000  0.030000    0.210000   \n",
            "6498    0.080000  14.250000  0.070000  1.100000  0.090000    0.100000   \n",
            "9526    2.349732  28.251484  0.050000  1.119919  0.005372    1.010225   \n",
            "12842   2.450668   4.808410  0.025318  0.556561  0.003936    2.591693   \n",
            "...          ...        ...       ...       ...       ...         ...   \n",
            "6202    0.030000  24.640000  0.060000  0.380000  0.000000    0.070000   \n",
            "4511    0.070000  18.830000  0.040000  0.060000  0.100000    0.420000   \n",
            "9073    0.025451  21.474727  0.031804  0.709179  0.052705    0.261103   \n",
            "7729    0.090000   0.040000  0.080000  2.610000  0.010000    0.110000   \n",
            "8973    0.129422  21.120000  0.040000  0.610000  0.005000    1.990000   \n",
            "\n",
            "       chromium    copper  flouride  bacteria   viruses      lead   nitrates  \\\n",
            "12380  0.032794  0.045118  1.131146  0.000000  0.002232  0.132047   4.713865   \n",
            "5454   0.060000  1.380000  0.130000  0.000000  0.002000  0.117000  19.620000   \n",
            "6498   0.070000  0.750000  0.090000  0.840000  0.840000  0.183000  11.360000   \n",
            "9526   0.393375  1.860412  0.988147  0.000000  0.000000  0.065981   7.821590   \n",
            "12842  0.441688  0.054045  0.646815  0.212102  0.004787  0.012255   4.484962   \n",
            "...         ...       ...       ...       ...       ...       ...        ...   \n",
            "6202   0.050000  1.890000  0.700000  0.770000  0.770000  0.172000  14.480000   \n",
            "4511   0.090000  0.020000  1.360000  0.000000  0.740000  0.126000   1.510000   \n",
            "9073   0.058156  0.048156  0.645290  0.000000  0.003090  0.059475   4.529661   \n",
            "7729   0.010000  0.070000  0.730000  0.000000  0.000000  0.157000  11.770000   \n",
            "8973   0.250000  0.830000  1.090000  0.191072  0.002810  0.084000   5.880000   \n",
            "\n",
            "       nitrites   mercury  perchlorate    radium  selenium    silver   uranium  \n",
            "12380  0.970236  0.006697     0.528651  0.207441  0.054647  0.065118  0.060000  \n",
            "5454   0.170000  0.001000     0.250000  0.700000  0.080000  0.050000  0.010000  \n",
            "6498   1.980000  0.001000     0.480000  1.770000  0.030000  0.100000  0.050000  \n",
            "9526   1.565864  0.004607    21.882776  4.545084  0.050000  0.183169  0.075103  \n",
            "12842  1.535764  0.003873    19.411367  7.621305  0.054682  0.114045  0.080000  \n",
            "...         ...       ...          ...       ...       ...       ...       ...  \n",
            "6202   1.130000  0.004000     1.000000  1.640000  0.020000  0.050000  0.050000  \n",
            "4511   0.880000  0.007000     0.380000  0.160000  0.010000  0.030000  0.080000  \n",
            "9073   0.764630  0.008365     1.383004  2.651505  0.094549  0.054549  0.029098  \n",
            "7729   2.270000  0.006000     0.810000  1.340000  0.030000  0.100000  0.040000  \n",
            "8973   1.460000  0.001000    27.440000  4.600000  0.060000  0.040000  0.010000  \n",
            "\n",
            "[10626 rows x 20 columns]\n"
          ]
        }
      ]
    },
    {
      "cell_type": "markdown",
      "source": [
        "#Model Implementation"
      ],
      "metadata": {
        "id": "QOgffAe4b7lO"
      }
    },
    {
      "cell_type": "code",
      "source": [
        "LR_Model=LogisticRegression()\n",
        "LR_Model.fit(train_scaled_upsampled,Y_train_upsampled)\n",
        "\n",
        "# Predictions made\n",
        "predict_train=LR_Model.predict(train_scaled_upsampled)\n",
        "predict_test=LR_Model.predict(test_scaled_upsampled)\n",
        "\n",
        "#Generate Outcomes\n",
        "print('Accuracy: ', accuracy_score(Y_test_upsampled,predict_test)*100, '%')\n",
        "print('Precision: ', precision_score(Y_test_upsampled,predict_test)*100, '%')\n",
        "print('f1: ', f1_score(Y_test_upsampled,predict_test)*100, '%')"
      ],
      "metadata": {
        "colab": {
          "base_uri": "https://localhost:8080/"
        },
        "id": "1SU-D6SLTOPI",
        "outputId": "3ee0277b-40e6-452b-a43a-c4ef6ac09610"
      },
      "execution_count": null,
      "outputs": [
        {
          "output_type": "stream",
          "name": "stdout",
          "text": [
            "Accuracy:  80.18068887634105 %\n",
            "Precision:  80.14664410603497 %\n",
            "f1:  80.19187358916479 %\n"
          ]
        }
      ]
    },
    {
      "cell_type": "code",
      "source": [
        "knn=KNeighborsClassifier(n_neighbors=3)\n",
        "knn.fit(train_scaled_upsampled,Y_train_upsampled)\n",
        "\n",
        "# Predictions made\n",
        "predict_train=knn.predict(train_scaled_upsampled)\n",
        "predict_test=knn.predict(test_scaled_upsampled)\n",
        "\n",
        "#Generate Outcomes\n",
        "print('Accuracy: ', accuracy_score(Y_test_upsampled,predict_test)*100, '%')\n",
        "print('Precision: ', precision_score(Y_test_upsampled,predict_test)*100, '%')\n",
        "print('f1: ', f1_score(Y_test_upsampled,predict_test)*100, '%')"
      ],
      "metadata": {
        "colab": {
          "base_uri": "https://localhost:8080/"
        },
        "id": "EymOjDe7a05n",
        "outputId": "3a897908-2ef2-4f01-8299-8d69e7518608"
      },
      "execution_count": null,
      "outputs": [
        {
          "output_type": "stream",
          "name": "stdout",
          "text": [
            "Accuracy:  88.79164313946923 %\n",
            "Precision:  81.7174515235457 %\n",
            "f1:  89.91617983235966 %\n"
          ]
        }
      ]
    },
    {
      "cell_type": "code",
      "source": [
        "NB=GaussianNB()\n",
        "NB.fit(train_scaled_upsampled,Y_train_upsampled)\n",
        "\n",
        "# Predictions made\n",
        "predict_train=NB.predict(train_scaled_upsampled)\n",
        "predict_test=NB.predict(test_scaled_upsampled)\n",
        "\n",
        "#Generate Outcomes\n",
        "print('Accuracy: ', accuracy_score(Y_test_upsampled,predict_test)*100, '%')\n",
        "print('Precision: ', precision_score(Y_test_upsampled,predict_test)*100, '%')\n",
        "print('f1: ', f1_score(Y_test_upsampled,predict_test)*100, '%')"
      ],
      "metadata": {
        "colab": {
          "base_uri": "https://localhost:8080/"
        },
        "id": "4LoCsUy0bPdF",
        "outputId": "5fda63d9-f69b-4d8c-e8e8-77ed3697adcc"
      },
      "execution_count": null,
      "outputs": [
        {
          "output_type": "stream",
          "name": "stdout",
          "text": [
            "Accuracy:  78.93845285149634 %\n",
            "Precision:  78.74369040942231 %\n",
            "f1:  79.00956668542486 %\n"
          ]
        }
      ]
    }
  ]
}